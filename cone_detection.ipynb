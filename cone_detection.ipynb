{
  "nbformat": 4,
  "nbformat_minor": 0,
  "metadata": {
    "colab": {
      "provenance": [],
      "gpuType": "T4"
    },
    "kernelspec": {
      "name": "python3",
      "display_name": "Python 3"
    },
    "language_info": {
      "name": "python"
    },
    "accelerator": "GPU",
    "gpuClass": "standard"
  },
  "cells": [
    {
      "cell_type": "markdown",
      "source": [
        "Initialise"
      ],
      "metadata": {
        "id": "AESQQWiNDCBq"
      }
    },
    {
      "cell_type": "code",
      "execution_count": null,
      "metadata": {
        "id": "s3zPjQTpBMeX"
      },
      "outputs": [],
      "source": [
        "git clone https://github.com/WongKinYiu/yolov7.git       # clone\n",
        "cd yolov7\n",
        "pip install --upgrade pip\n",
        "pip install -r requirements.txt      # install modules"
      ]
    },
    {
      "cell_type": "markdown",
      "source": [
        "Test case"
      ],
      "metadata": {
        "id": "2raj0u5RDH1b"
      }
    },
    {
      "cell_type": "code",
      "source": [
        "python detect.py --weights yolov7.pt --source inference/images/horses.jpg --img 640"
      ],
      "metadata": {
        "id": "ypXWgS1NDJZn"
      },
      "execution_count": null,
      "outputs": []
    },
    {
      "cell_type": "markdown",
      "source": [
        "**Get Data**\n",
        "\n",
        "https://medium.com/augmented-startups/yolov7-training-on-custom-data-b86d23e6623"
      ],
      "metadata": {
        "id": "VwvC50j4DW6l"
      }
    },
    {
      "cell_type": "code",
      "source": [
        "//Data collection"
      ],
      "metadata": {
        "id": "H4zb-0gEDYuI"
      },
      "execution_count": null,
      "outputs": []
    },
    {
      "cell_type": "markdown",
      "source": [
        "Train data"
      ],
      "metadata": {
        "id": "r6RmgADiDbJ8"
      }
    },
    {
      "cell_type": "code",
      "source": [
        "python train.py --weights yolov7.pt --data \"data/custom.yaml\" --workers 4 --batch-size 4 --img 416 --cfg cfg/training/yolov7.yaml --name yolov7 --hyp data/hyp.scratch.p5.yaml"
      ],
      "metadata": {
        "id": "zYtoEj3uDzOZ"
      },
      "execution_count": null,
      "outputs": []
    },
    {
      "cell_type": "code",
      "source": [
        "Test Model"
      ],
      "metadata": {
        "id": "Ov0kb1jJD99o"
      },
      "execution_count": null,
      "outputs": []
    },
    {
      "cell_type": "code",
      "source": [
        "python detect.py --weights runs/train/yolov7/weights/best.pt --source \"path to your testing image\" //TODO"
      ],
      "metadata": {
        "id": "W6smyTUKD_Vt"
      },
      "execution_count": null,
      "outputs": []
    }
  ]
}