{
  "cells": [
    {
      "attachments": {},
      "cell_type": "markdown",
      "metadata": {
        "id": "AESQQWiNDCBq"
      },
      "source": [
        "Initialise"
      ]
    },
    {
      "cell_type": "code",
      "execution_count": null,
      "metadata": {
        "id": "s3zPjQTpBMeX"
      },
      "outputs": [],
      "source": [
        "git clone https://github.com/WongKinYiu/yolov7.git       # clone\n",
        "cd yolov7\n",
        "pip install --upgrade pip\n",
        "pip install -r requirements.txt      # install modules"
      ]
    },
    {
      "attachments": {},
      "cell_type": "markdown",
      "metadata": {
        "id": "2raj0u5RDH1b"
      },
      "source": [
        "Test case"
      ]
    },
    {
      "cell_type": "code",
      "execution_count": null,
      "metadata": {
        "id": "ypXWgS1NDJZn"
      },
      "outputs": [],
      "source": [
        "wget https://github.com/WongKinYiu/yolov7/releases/download/v0.1/yolov7.pt\n",
        "python detect.py --weights yolov7.pt --source inference/images/horses.jpg --img 640"
      ]
    },
    {
      "cell_type": "code",
      "execution_count": null,
      "metadata": {},
      "outputs": [],
      "source": [
        "# define helper functions to show images\n",
        "def imShow(path):\n",
        "  import cv2\n",
        "  import matplotlib.pyplot as plt\n",
        "  %matplotlib inline\n",
        "\n",
        "  image = cv2.imread(path)\n",
        "  height, width = image.shape[:2]\n",
        "  resized_image = cv2.resize(image,(3*width, 3*height), interpolation = cv2.INTER_CUBIC)\n",
        "\n",
        "  fig = plt.gcf()\n",
        "  fig.set_size_inches(18, 10)\n",
        "  plt.axis(\"off\")\n",
        "  plt.imshow(cv2.cvtColor(resized_image, cv2.COLOR_BGR2RGB))\n",
        "  plt.show()"
      ]
    },
    {
      "cell_type": "code",
      "execution_count": null,
      "metadata": {},
      "outputs": [],
      "source": [
        "imShow(\"runs/detect/exp/horses.jpg\")"
      ]
    },
    {
      "attachments": {},
      "cell_type": "markdown",
      "metadata": {
        "id": "VwvC50j4DW6l"
      },
      "source": [
        "**Get Data**\n",
        "\n",
        "https://medium.com/augmented-startups/yolov7-training-on-custom-data-b86d23e6623"
      ]
    },
    {
      "cell_type": "code",
      "execution_count": null,
      "metadata": {
        "id": "H4zb-0gEDYuI"
      },
      "outputs": [],
      "source": [
        "#TODO: Data collection"
      ]
    },
    {
      "attachments": {},
      "cell_type": "markdown",
      "metadata": {
        "id": "r6RmgADiDbJ8"
      },
      "source": [
        "Train data"
      ]
    },
    {
      "cell_type": "code",
      "execution_count": null,
      "metadata": {
        "id": "zYtoEj3uDzOZ"
      },
      "outputs": [],
      "source": [
        "python train.py --workers 4 --device 0 --batch-size 16 --epochs 100 --img 640 640 --hyp data/hyp.scratch.custom.yaml --name yolov7-custom --weights yolov7.pt --data \"data/custom.yaml\" --cfg cfg/training/yolov7.yaml"
      ]
    },
    {
      "attachments": {},
      "cell_type": "markdown",
      "metadata": {},
      "source": [
        "Test Model"
      ]
    },
    {
      "cell_type": "code",
      "execution_count": null,
      "metadata": {
        "id": "W6smyTUKD_Vt"
      },
      "outputs": [],
      "source": [
        "python detect.py --weights runs/train/yolov7/weights/best.pt --source \"path to custom testing image\" #TODO"
      ]
    },
    {
      "cell_type": "code",
      "execution_count": null,
      "metadata": {},
      "outputs": [],
      "source": [
        "imShow(\"path to sample image\")"
      ]
    }
  ],
  "metadata": {
    "accelerator": "GPU",
    "colab": {
      "gpuType": "T4",
      "provenance": []
    },
    "gpuClass": "standard",
    "kernelspec": {
      "display_name": "Python 3",
      "name": "python3"
    },
    "language_info": {
      "name": "python"
    }
  },
  "nbformat": 4,
  "nbformat_minor": 0
}
